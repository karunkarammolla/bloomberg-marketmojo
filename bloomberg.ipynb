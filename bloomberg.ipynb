{
 "cells": [
  {
   "cell_type": "code",
   "execution_count": 159,
   "metadata": {},
   "outputs": [],
   "source": [
    "import requests\n",
    "\n",
    "url = \"https://www.bloomberg.com/markets/stocks/world-indexes/asia-pacific\"\n",
    "\n",
    "headers = {\n",
    "    'cache-control': \"no-cache\",\n",
    "    'postman-token': \"015dc4b7-ba60-dc9b-a565-2e6870606f1d\",\n",
    "    'user-agent': \"Mozilla/5.0 (Windows NT 10.0; Win64; x64) AppleWebKit/537.36 (KHTML, like Gecko) Chrome/81.0.4044.138 Safari/537.36\",\n",
    "    }\n",
    "\n",
    "response = requests.request(\"GET\", url, headers=headers)\n",
    "\n",
    "\n",
    "soup = BeautifulSoup(response.text,'html.parser')\n",
    "tables=soup.find_all('div',{'class':'data-tables'})\n",
    "dfs=[]\n",
    "for table in tables:\n",
    "    hg= table\n",
    "    country=hg.find('h2',{'class':'table-container__title'}).text\n",
    "    gyt=hg.find('table',{'class':'data-table'})\n",
    "    data_frame = pd.read_html(str(gyt))[0]\n",
    "    data_frame['country'] = country\n",
    "    dfs.append(data_frame)\n",
    "   \n",
    "\n",
    "Grand_db = pd.concat(dfs)\n",
    "Grand_db.to_csv(r'C:\\\\Desktop\\\\ankiacrape\\\\bloomberg_data.csv')"
   ]
  }
 ],
 "metadata": {
  "kernelspec": {
   "display_name": "Python 3",
   "language": "python",
   "name": "python3"
  },
  "language_info": {
   "codemirror_mode": {
    "name": "ipython",
    "version": 3
   },
   "file_extension": ".py",
   "mimetype": "text/x-python",
   "name": "python",
   "nbconvert_exporter": "python",
   "pygments_lexer": "ipython3",
   "version": "3.7.3"
  }
 },
 "nbformat": 4,
 "nbformat_minor": 2
}
