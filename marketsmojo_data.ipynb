{
 "cells": [
  {
   "cell_type": "code",
   "execution_count": 4,
   "metadata": {},
   "outputs": [],
   "source": [
    "import requests\n",
    "import json\n",
    "import pandas as pd\n",
    "from datetime import datetime\n",
    "today_date = datetime.now().strftime('%Y_%m_%d')\n",
    "\n",
    "url = \"https://frapi.marketsmojo.com/screener/search\"\n",
    "\n",
    "pagenum = [1, 2]\n",
    "market = []\n",
    "for i in pagenum:\n",
    "    payload = {\"screener_type\":1, \"pagenum\":i,\"filters\":\"[{'marketcap':[1,2]},{'result_quarter':[1]},{'decleared':[[{'field':'decleared','Display':'RESULTS DECLARED','pos':6,'stop':true,'checked':true,'list':[]}]]}]\",\"sort\":\"[{'col':'fin_score','dir':-1}]\",\"resultcorner\":\"1\",\"resulttype\":\"latest\"}\n",
    "    res = requests.post(url, json=payload)\n",
    "    restext = '[' + res.text + ']'\n",
    "    json_text = json.loads(restext)\n",
    "    for i in range(0, len(json_text[0]['data']['list'])):\n",
    "        mcap_grade = json_text[0]['data']['list'][i]['mcap_grade'].strip().lower().replace(' ','')\n",
    "        if mcap_grade == 'largecap' or mcap_grade == 'midcap':\n",
    "            company  = json_text[0]['data']['list'][i]['sname']\n",
    "            price = json_text[0]['data']['list'][i]['price']\n",
    "            market_cap =str(json_text[0]['data']['list'][i]['mcap']).replace('Cr)','').replace('(', '').replace(',','').strip()\n",
    "            industry = json_text[0]['data']['list'][i]['ind_name']\n",
    "            financial_trend = json_text[0]['data']['list'][i]['f_txt']+' '+json_text[0]['data']['list'][i]['f_score']\n",
    "            Result_commentary = json_text[0]['data']['list'][i]['fin_commentory']+' '+json_text[0]['data']['list'][i]['fin_score_t']\n",
    "            Result_date = json_text[0]['data']['list'][i]['result']\n",
    "            returns_since_result = json_text[0]['data']['list'][i]['resultdt']\n",
    "            returns_last_15_days = json_text[0]['data']['list'][i]['result15']\n",
    "            sentiment = json_text[0]['data']['list'][i]['f_txt']\n",
    "            \n",
    "            a=[company,price,market_cap,industry,financial_trend,Result_commentary,Result_date,returns_since_result,returns_last_15_days,sentiment]\n",
    "            market.append(a)\n",
    "\n",
    "df = pd.DataFrame(market, columns=['company','price','market_cap','industry','financial_trend','Result_commentary','Result_date','returns_since_result','returns_last_15_days','sentiment'])\n",
    "df = df.drop_duplicates()\n",
    "count=df['sentiment'].value_counts()\n",
    "df['Flat percent'] = count[0]/len(df)*100\n",
    "df['Negative percent'] = count[1]/len(df)*100\n",
    "df['Positive percent'] = count[2]/len(df)*100\n",
    "df['scraped_date']=today_date\n",
    "\n",
    "df.to_csv('MojoMarket_data.csv', index=False)\n",
    "\n"
   ]
  },
  {
   "cell_type": "code",
   "execution_count": null,
   "metadata": {},
   "outputs": [],
   "source": []
  }
 ],
 "metadata": {
  "kernelspec": {
   "display_name": "Python 3",
   "language": "python",
   "name": "python3"
  },
  "language_info": {
   "codemirror_mode": {
    "name": "ipython",
    "version": 3
   },
   "file_extension": ".py",
   "mimetype": "text/x-python",
   "name": "python",
   "nbconvert_exporter": "python",
   "pygments_lexer": "ipython3",
   "version": "3.7.3"
  }
 },
 "nbformat": 4,
 "nbformat_minor": 2
}
